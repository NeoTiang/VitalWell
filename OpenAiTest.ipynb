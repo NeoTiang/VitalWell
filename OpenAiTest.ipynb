{
 "cells": [
  {
   "cell_type": "code",
   "execution_count": 2,
   "metadata": {},
   "outputs": [
    {
     "name": "stdout",
     "output_type": "stream",
     "text": [
      "ChatCompletionMessage(content=\"In the realm of code, a concept reigns supreme,\\nRecursive beauty, like a never-ending dream.\\nA function calls itself, a loop that dances free,\\nUnraveling mysteries, like branches of a tree.\\n\\nLike echoes in a canyon, it repeats its task,\\nCreating patterns intricate, a never-ending mask.\\nIt delves into the depths of problems complex,\\nBreaking them into fragments, with logic to annex.\\n\\nEach iteration peels a layer, like an onion's skin,\\nUntil the base case emerges, the journey within.\\nA magic spell of algorithms, a method rare,\\nTo solve the puzzles of programming with flair.\\n\\nSo embrace the power of recursion, let it flow,\\nAs through the maze of data, it will guide and show.\\nIn the symphony of code, let it sing and play,\\nRecursive harmony, in the programmer's ballet.\", role='assistant', function_call=None, tool_calls=None)\n"
     ]
    }
   ],
   "source": [
    "from openai import OpenAI\n",
    "client = OpenAI()\n",
    "\n",
    "\n",
    "completion = client.chat.completions.create(\n",
    "  model=\"gpt-3.5-turbo\",\n",
    "  messages=[\n",
    "    {\"role\": \"system\", \"content\": \"You are a poetic assistant, skilled in explaining complex programming concepts with creative flair.\"},\n",
    "    {\"role\": \"user\", \"content\": \"Compose a poem that explains the concept of recursion in programming.\"}\n",
    "  ]\n",
    ")\n",
    "\n",
    "print(completion.choices[0].message)"
   ]
  }
 ],
 "metadata": {
  "kernelspec": {
   "display_name": "Python 3",
   "language": "python",
   "name": "python3"
  },
  "language_info": {
   "codemirror_mode": {
    "name": "ipython",
    "version": 3
   },
   "file_extension": ".py",
   "mimetype": "text/x-python",
   "name": "python",
   "nbconvert_exporter": "python",
   "pygments_lexer": "ipython3",
   "version": "3.11.4"
  }
 },
 "nbformat": 4,
 "nbformat_minor": 2
}
